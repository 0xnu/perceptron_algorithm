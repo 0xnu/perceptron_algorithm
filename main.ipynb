{
 "cells": [
  {
   "cell_type": "code",
   "execution_count": 1,
   "metadata": {},
   "outputs": [],
   "source": [
    "from perceptron_algorithm import PerceptronAlgorithm\n",
    "from data import Data\n",
    "from sklearn.metrics import accuracy_score"
   ]
  },
  {
   "cell_type": "code",
   "execution_count": 2,
   "metadata": {},
   "outputs": [
    {
     "data": {
      "image/png": "[encoded data removed]",
      "text/plain": [
       "<Figure size 432x288 with 1 Axes>"
      ]
     },
     "metadata": {
      "needs_background": "light"
     },
     "output_type": "display_data"
    },
    {
     "name": "stdout",
     "output_type": "stream",
     "text": [
      "0.73125\n"
     ]
    },
    {
     "data": {
      "image/png": "[encoded data removed]",
      "text/plain": [
       "<Figure size 432x288 with 1 Axes>"
      ]
     },
     "metadata": {
      "needs_background": "light"
     },
     "output_type": "display_data"
    },
    {
     "name": "stdout",
     "output_type": "stream",
     "text": [
      "0.7222222222222222\n"
     ]
    }
   ],
   "source": [
    "if __name__ == \"__main__\":\n",
    "    pass\n",
    "\n",
    "    df = Data()\n",
    "    \n",
    "    X_train, X_test, Y_train, Y_test, X, Y = df.preprocessing(df.dataset)\n",
    "    \n",
    "    perceptron = PerceptronAlgorithm()\n",
    "    \n",
    "    df.plot(df.dataset)        \n",
    "       \n",
    "      \n",
    "    # epochs = 10000 and lr = 0.3\n",
    "    wt_matrix = perceptron.fit(X_train, Y_train, 10000, 0.3)\n",
    "    \n",
    "    # Predictions\n",
    "    Y_pred_test = perceptron.predict(X_test)\n",
    "    \n",
    "    # Accuracy score\n",
    "    print(accuracy_score(Y_pred_test, Y_test))"
   ]
  },
  {
   "cell_type": "code",
   "execution_count": null,
   "metadata": {},
   "outputs": [],
   "source": []
  }
 ],
 "metadata": {
  "kernelspec": {
   "display_name": "Python 3",
   "language": "python",
   "name": "python3"
  },
  "language_info": {
   "codemirror_mode": {
    "name": "ipython",
    "version": 3
   },
   "file_extension": ".py",
   "mimetype": "text/x-python",
   "name": "python",
   "nbconvert_exporter": "python",
   "pygments_lexer": "ipython3",
   "version": "3.8.6"
  }
 },
 "nbformat": 4,
 "nbformat_minor": 2
}
